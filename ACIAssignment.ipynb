{
  "nbformat": 4,
  "nbformat_minor": 0,
  "metadata": {
    "colab": {
      "name": "ACIAssignment.ipynb",
      "provenance": [],
      "collapsed_sections": [],
      "authorship_tag": "ABX9TyOoE/rua9I6PmQZv5w+GJee",
      "include_colab_link": true
    },
    "kernelspec": {
      "name": "python3",
      "display_name": "Python 3"
    },
    "language_info": {
      "name": "python"
    }
  },
  "cells": [
    {
      "cell_type": "markdown",
      "metadata": {
        "id": "view-in-github",
        "colab_type": "text"
      },
      "source": [
        "<a href=\"https://colab.research.google.com/github/zernabhussain/music-mood-recognition-system-CNN/blob/main/ACIAssignment.ipynb\" target=\"_parent\"><img src=\"https://colab.research.google.com/assets/colab-badge.svg\" alt=\"Open In Colab\"/></a>"
      ]
    },
    {
      "cell_type": "code",
      "source": [
        "import numpy as np\n",
        "import pandas as pd\n",
        "import matplotlib.pyplot as plt     \n",
        "from tensorflow.keras.models import Sequential \n",
        "from tensorflow.keras.optimizers import Adam \n",
        "from tensorflow.keras.layers import Conv1D, Conv2D,MaxPool1D, MaxPool2D ,MaxPooling1D, Dropout, Flatten, Dense, Activation, BatchNormalization \n",
        "from sklearn.preprocessing import  MinMaxScaler, OneHotEncoder\n",
        "from sklearn.model_selection import train_test_split \n",
        "encoder = OneHotEncoder() \n",
        "min_max_scaler = MinMaxScaler()"
      ],
      "metadata": {
        "id": "LRUWkmxWOcb8"
      },
      "execution_count": null,
      "outputs": []
    },
    {
      "cell_type": "code",
      "source": [
        "def plotHistory(history):\n",
        "    print(\"Max. Validation Accuracy\",max(history.history[\"val_accuracy\"])) \n",
        "    print('='*20)\n",
        "    pd.DataFrame(history.history).plot(figsize=(12,6))\n",
        "    plt.show()"
      ],
      "metadata": {
        "id": "GxWs9bx9E98O"
      },
      "execution_count": null,
      "outputs": []
    },
    {
      "cell_type": "code",
      "source": [
        "def prepare_datasets(x,y,test_size, validation_size):  \n",
        "    x_train, x_test, y_train, y_test = train_test_split(x, y, test_size=test_size)\n",
        "    x_train, x_validation, y_train, y_validation = train_test_split(x_train, y_train, test_size=validation_size) \n",
        " \n",
        "    x_train = x_train[..., np.newaxis]\n",
        "    x_validation = x_validation[..., np.newaxis]\n",
        "    x_test = x_test[..., np.newaxis]\n",
        "\n",
        "    return x_train, x_validation, x_test, y_train, y_validation, y_test"
      ],
      "metadata": {
        "id": "tWCZnNRcnXTr"
      },
      "execution_count": null,
      "outputs": []
    },
    {
      "cell_type": "code",
      "source": [
        "try:\n",
        "    norm_data_url = \"https://docs.google.com/spreadsheets/d/e/2PACX-1vSOvWjNVMFfGPVlHQ3a1EXSKI118Hf0VNQzJKCBmCNoB8wViLWH7FGJZ8kENu88qolTCnI3Bx_NIEU5/pub?gid=3210966&single=true&output=csv\" \n",
        "    df = pd.read_csv(norm_data_url, sep=',')   \n",
        "    print(\"Totel Number of rows: \",len(df))  \n",
        "    print('Totel number of columns: ', df.shape[1])  \n",
        "    print('The different type of mood labels:')\n",
        "    df.mood.value_counts().plot(kind='bar') \n",
        "except:\n",
        "    print('Error downloading')\n",
        "    raise\n",
        "       "
      ],
      "metadata": {
        "colab": {
          "base_uri": "https://localhost:8080/",
          "height": 355
        },
        "id": "xErH3rCO_muj",
        "outputId": "584332bc-4749-4ba3-a62e-88d45369a57c"
      },
      "execution_count": null,
      "outputs": [
        {
          "output_type": "stream",
          "name": "stdout",
          "text": [
            "Totel Number of rows:  686\n",
            "Totel number of columns:  13\n",
            "The different type of mood labels:\n"
          ]
        },
        {
          "output_type": "display_data",
          "data": {
            "text/plain": [
              "<Figure size 432x288 with 1 Axes>"
            ],
            "image/png": "[encoded data removed]"
          },
          "metadata": {
            "needs_background": "light"
          }
        }
      ]
    },
    {
      "cell_type": "code",
      "source": [
        "label_ind = {'Happy': 0, 'Sad': 1, 'Energetic': 2, 'Calm': 3}\n",
        "ind_label = {0: 'Happy', 1: 'Sad', 2: 'Energetic', 3: 'Calm'} \n",
        "df.mood = [label_ind[l] for l in df.mood]\n",
        "\n",
        "main_features = df[['popularity', 'loudness','tempo', 'key', 'time_signature']].values\n",
        " \n",
        "features_scaled = min_max_scaler.fit_transform(main_features) \n",
        "scaled_data = pd.DataFrame(features_scaled)\n",
        "\n",
        "df.popularity = scaled_data[0]\n",
        "df.loudness = scaled_data[1]\n",
        "df.tempo = scaled_data[2]\n",
        "df.key = scaled_data[3]\n",
        "df.time_signature = scaled_data[4]"
      ],
      "metadata": {
        "id": "_DHWgvxa9u3f"
      },
      "execution_count": null,
      "outputs": []
    },
    {
      "cell_type": "code",
      "source": [
        "y = df['mood'].values\n",
        "y = encoder.fit_transform(np.array(y).reshape(-1,1)).toarray() \n",
        " \n",
        "x_columns = df.columns.drop(['mood'])\n",
        "x = df[x_columns].values\n",
        " \n",
        "x_train, x_validation, x_test, y_train, y_validation, y_test  = prepare_datasets(x, y, 0.15, 0.15)\n",
        "\n",
        "x_train.shape, x_validation.shape, x_test.shape, y_train.shape, y_validation.shape, y_test.shape"
      ],
      "metadata": {
        "id": "4jrw0bHiPChu",
        "colab": {
          "base_uri": "https://localhost:8080/"
        },
        "outputId": "64a7d525-95e6-4536-fc15-e511af7edc19"
      },
      "execution_count": null,
      "outputs": [
        {
          "output_type": "execute_result",
          "data": {
            "text/plain": [
              "((495, 12, 1), (88, 12, 1), (103, 12, 1), (495, 4), (88, 4), (103, 4))"
            ]
          },
          "metadata": {},
          "execution_count": 6
        }
      ]
    },
    {
      "cell_type": "code",
      "source": [
        "def build_CNN_model(input_shape): \n",
        "    model = Sequential() \n",
        "\n",
        "    model.add(Conv1D(32, 3, activation = \"relu\", input_shape = input_shape)) \n",
        "    model.add(MaxPooling1D(pool_size=3, strides=1, padding=\"same\"))\n",
        "    model.add(BatchNormalization())  \n",
        "\n",
        "    model.add(Conv1D(32, 3, activation = \"relu\")) \n",
        "    model.add(MaxPooling1D(pool_size=3, strides=1, padding=\"same\"))\n",
        "    model.add(BatchNormalization())  \n",
        "\n",
        "    model.add(Conv1D(32, 2, activation = \"relu\" )) \n",
        "    model.add(MaxPooling1D(pool_size=2, strides=1, padding=\"same\"))\n",
        "    model.add(BatchNormalization())  \n",
        "\n",
        "    model.add(Flatten())\n",
        "    model.add(Dense(64, activation=\"relu\"))\n",
        "    model.add(Dropout(0.3))\n",
        "    \n",
        "    model.add(Dense(y.shape[1], activation=\"softmax\"))\n",
        "\n",
        "    optimizer = Adam(learning_rate=0.0001)\n",
        "    model.compile(optimizer = optimizer, \n",
        "              loss=\"MSE\", \n",
        "              metrics=[\"accuracy\"]) \n",
        "    model.summary()\n",
        "\n",
        "    return model"
      ],
      "metadata": {
        "id": "b9dt_kl5oWAz"
      },
      "execution_count": null,
      "outputs": []
    },
    {
      "cell_type": "code",
      "source": [
        "input_shape = x_train.shape[1:] \n",
        "modelCNN = build_CNN_model(input_shape)\n",
        "historyCNN = modelCNN.fit(x_train, y_train, validation_data=(x_validation, y_validation), batch_size=90, epochs=150)"
      ],
      "metadata": {
        "colab": {
          "base_uri": "https://localhost:8080/"
        },
        "id": "QWTLUoG1BS7c",
        "outputId": "aab07a98-1217-4509-ae9c-99d0ffdbbfe6"
      },
      "execution_count": null,
      "outputs": [
        {
          "output_type": "stream",
          "name": "stdout",
          "text": [
            "Model: \"sequential\"\n",
            "_________________________________________________________________\n",
            " Layer (type)                Output Shape              Param #   \n",
            "=================================================================\n",
            " conv1d (Conv1D)             (None, 10, 32)            128       \n",
            "                                                                 \n",
            " max_pooling1d (MaxPooling1D  (None, 10, 32)           0         \n",
            " )                                                               \n",
            "                                                                 \n",
            " batch_normalization (BatchN  (None, 10, 32)           128       \n",
            " ormalization)                                                   \n",
            "                                                                 \n",
            " conv1d_1 (Conv1D)           (None, 8, 32)             3104      \n",
            "                                                                 \n",
            " max_pooling1d_1 (MaxPooling  (None, 8, 32)            0         \n",
            " 1D)                                                             \n",
            "                                                                 \n",
            " batch_normalization_1 (Batc  (None, 8, 32)            128       \n",
            " hNormalization)                                                 \n",
            "                                                                 \n",
            " conv1d_2 (Conv1D)           (None, 7, 32)             2080      \n",
            "                                                                 \n",
            " max_pooling1d_2 (MaxPooling  (None, 7, 32)            0         \n",
            " 1D)                                                             \n",
            "                                                                 \n",
            " batch_normalization_2 (Batc  (None, 7, 32)            128       \n",
            " hNormalization)                                                 \n",
            "                                                                 \n",
            " flatten (Flatten)           (None, 224)               0         \n",
            "                                                                 \n",
            " dense (Dense)               (None, 64)                14400     \n",
            "                                                                 \n",
            " dropout (Dropout)           (None, 64)                0         \n",
            "                                                                 \n",
            " dense_1 (Dense)             (None, 4)                 260       \n",
            "                                                                 \n",
            "=================================================================\n",
            "Total params: 20,356\n",
            "Trainable params: 20,164\n",
            "Non-trainable params: 192\n",
            "_________________________________________________________________\n",
            "Epoch 1/150\n",
            "6/6 [==============================] - 2s 64ms/step - loss: 0.2144 - accuracy: 0.3515 - val_loss: 0.1871 - val_accuracy: 0.1705\n",
            "Epoch 2/150\n",
            "6/6 [==============================] - 0s 13ms/step - loss: 0.1919 - accuracy: 0.4121 - val_loss: 0.1875 - val_accuracy: 0.2614\n",
            "Epoch 3/150\n",
            "6/6 [==============================] - 0s 13ms/step - loss: 0.1775 - accuracy: 0.4646 - val_loss: 0.1885 - val_accuracy: 0.2727\n",
            "Epoch 4/150\n",
            "6/6 [==============================] - 0s 13ms/step - loss: 0.1509 - accuracy: 0.5556 - val_loss: 0.1895 - val_accuracy: 0.1932\n",
            "Epoch 5/150\n",
            "6/6 [==============================] - 0s 12ms/step - loss: 0.1380 - accuracy: 0.5859 - val_loss: 0.1902 - val_accuracy: 0.1818\n",
            "Epoch 6/150\n",
            "6/6 [==============================] - 0s 13ms/step - loss: 0.1228 - accuracy: 0.6485 - val_loss: 0.1911 - val_accuracy: 0.1818\n",
            "Epoch 7/150\n",
            "6/6 [==============================] - 0s 13ms/step - loss: 0.1155 - accuracy: 0.6566 - val_loss: 0.1919 - val_accuracy: 0.1818\n",
            "Epoch 8/150\n",
            "6/6 [==============================] - 0s 13ms/step - loss: 0.1057 - accuracy: 0.7192 - val_loss: 0.1929 - val_accuracy: 0.1818\n",
            "Epoch 9/150\n",
            "6/6 [==============================] - 0s 13ms/step - loss: 0.1097 - accuracy: 0.6869 - val_loss: 0.1939 - val_accuracy: 0.1818\n",
            "Epoch 10/150\n",
            "6/6 [==============================] - 0s 13ms/step - loss: 0.1019 - accuracy: 0.7192 - val_loss: 0.1951 - val_accuracy: 0.1818\n",
            "Epoch 11/150\n",
            "6/6 [==============================] - 0s 14ms/step - loss: 0.0979 - accuracy: 0.7253 - val_loss: 0.1962 - val_accuracy: 0.1932\n",
            "Epoch 12/150\n",
            "6/6 [==============================] - 0s 12ms/step - loss: 0.0900 - accuracy: 0.7434 - val_loss: 0.1971 - val_accuracy: 0.2273\n",
            "Epoch 13/150\n",
            "6/6 [==============================] - 0s 13ms/step - loss: 0.0966 - accuracy: 0.7333 - val_loss: 0.1980 - val_accuracy: 0.2614\n",
            "Epoch 14/150\n",
            "6/6 [==============================] - 0s 12ms/step - loss: 0.0870 - accuracy: 0.7455 - val_loss: 0.1987 - val_accuracy: 0.3068\n",
            "Epoch 15/150\n",
            "6/6 [==============================] - 0s 12ms/step - loss: 0.0870 - accuracy: 0.7535 - val_loss: 0.1994 - val_accuracy: 0.3636\n",
            "Epoch 16/150\n",
            "6/6 [==============================] - 0s 13ms/step - loss: 0.0855 - accuracy: 0.7596 - val_loss: 0.2000 - val_accuracy: 0.3523\n",
            "Epoch 17/150\n",
            "6/6 [==============================] - 0s 13ms/step - loss: 0.0853 - accuracy: 0.7596 - val_loss: 0.2005 - val_accuracy: 0.3409\n",
            "Epoch 18/150\n",
            "6/6 [==============================] - 0s 13ms/step - loss: 0.0764 - accuracy: 0.7919 - val_loss: 0.2009 - val_accuracy: 0.3068\n",
            "Epoch 19/150\n",
            "6/6 [==============================] - 0s 13ms/step - loss: 0.0769 - accuracy: 0.7798 - val_loss: 0.2016 - val_accuracy: 0.2955\n",
            "Epoch 20/150\n",
            "6/6 [==============================] - 0s 12ms/step - loss: 0.0787 - accuracy: 0.7758 - val_loss: 0.2017 - val_accuracy: 0.2841\n",
            "Epoch 21/150\n",
            "6/6 [==============================] - 0s 14ms/step - loss: 0.0795 - accuracy: 0.7758 - val_loss: 0.2020 - val_accuracy: 0.2841\n",
            "Epoch 22/150\n",
            "6/6 [==============================] - 0s 13ms/step - loss: 0.0717 - accuracy: 0.8000 - val_loss: 0.2027 - val_accuracy: 0.2614\n",
            "Epoch 23/150\n",
            "6/6 [==============================] - 0s 15ms/step - loss: 0.0736 - accuracy: 0.8081 - val_loss: 0.2030 - val_accuracy: 0.2500\n",
            "Epoch 24/150\n",
            "6/6 [==============================] - 0s 12ms/step - loss: 0.0694 - accuracy: 0.8162 - val_loss: 0.2033 - val_accuracy: 0.2500\n",
            "Epoch 25/150\n",
            "6/6 [==============================] - 0s 14ms/step - loss: 0.0698 - accuracy: 0.8202 - val_loss: 0.2032 - val_accuracy: 0.2500\n",
            "Epoch 26/150\n",
            "6/6 [==============================] - 0s 13ms/step - loss: 0.0731 - accuracy: 0.7939 - val_loss: 0.2031 - val_accuracy: 0.2500\n",
            "Epoch 27/150\n",
            "6/6 [==============================] - 0s 12ms/step - loss: 0.0675 - accuracy: 0.8000 - val_loss: 0.2035 - val_accuracy: 0.2273\n",
            "Epoch 28/150\n",
            "6/6 [==============================] - 0s 12ms/step - loss: 0.0678 - accuracy: 0.8101 - val_loss: 0.2044 - val_accuracy: 0.2273\n",
            "Epoch 29/150\n",
            "6/6 [==============================] - 0s 13ms/step - loss: 0.0691 - accuracy: 0.8141 - val_loss: 0.2046 - val_accuracy: 0.2273\n",
            "Epoch 30/150\n",
            "6/6 [==============================] - 0s 12ms/step - loss: 0.0675 - accuracy: 0.8000 - val_loss: 0.2050 - val_accuracy: 0.2273\n",
            "Epoch 31/150\n",
            "6/6 [==============================] - 0s 13ms/step - loss: 0.0643 - accuracy: 0.8222 - val_loss: 0.2052 - val_accuracy: 0.2273\n",
            "Epoch 32/150\n",
            "6/6 [==============================] - 0s 12ms/step - loss: 0.0689 - accuracy: 0.8081 - val_loss: 0.2054 - val_accuracy: 0.2273\n",
            "Epoch 33/150\n",
            "6/6 [==============================] - 0s 13ms/step - loss: 0.0645 - accuracy: 0.8263 - val_loss: 0.2055 - val_accuracy: 0.2273\n",
            "Epoch 34/150\n",
            "6/6 [==============================] - 0s 12ms/step - loss: 0.0629 - accuracy: 0.8202 - val_loss: 0.2059 - val_accuracy: 0.2273\n",
            "Epoch 35/150\n",
            "6/6 [==============================] - 0s 13ms/step - loss: 0.0622 - accuracy: 0.8222 - val_loss: 0.2061 - val_accuracy: 0.2273\n",
            "Epoch 36/150\n",
            "6/6 [==============================] - 0s 13ms/step - loss: 0.0663 - accuracy: 0.8141 - val_loss: 0.2062 - val_accuracy: 0.2273\n",
            "Epoch 37/150\n",
            "6/6 [==============================] - 0s 15ms/step - loss: 0.0608 - accuracy: 0.8283 - val_loss: 0.2063 - val_accuracy: 0.2273\n",
            "Epoch 38/150\n",
            "6/6 [==============================] - 0s 13ms/step - loss: 0.0617 - accuracy: 0.8303 - val_loss: 0.2069 - val_accuracy: 0.2273\n",
            "Epoch 39/150\n",
            "6/6 [==============================] - 0s 13ms/step - loss: 0.0639 - accuracy: 0.8222 - val_loss: 0.2071 - val_accuracy: 0.2273\n",
            "Epoch 40/150\n",
            "6/6 [==============================] - 0s 14ms/step - loss: 0.0588 - accuracy: 0.8323 - val_loss: 0.2070 - val_accuracy: 0.2273\n",
            "Epoch 41/150\n",
            "6/6 [==============================] - 0s 16ms/step - loss: 0.0584 - accuracy: 0.8283 - val_loss: 0.2069 - val_accuracy: 0.2273\n",
            "Epoch 42/150\n",
            "6/6 [==============================] - 0s 14ms/step - loss: 0.0560 - accuracy: 0.8444 - val_loss: 0.2061 - val_accuracy: 0.2273\n",
            "Epoch 43/150\n",
            "6/6 [==============================] - 0s 17ms/step - loss: 0.0608 - accuracy: 0.8343 - val_loss: 0.2052 - val_accuracy: 0.2273\n",
            "Epoch 44/150\n",
            "6/6 [==============================] - 0s 13ms/step - loss: 0.0581 - accuracy: 0.8364 - val_loss: 0.2053 - val_accuracy: 0.2273\n",
            "Epoch 45/150\n",
            "6/6 [==============================] - 0s 13ms/step - loss: 0.0561 - accuracy: 0.8505 - val_loss: 0.2049 - val_accuracy: 0.2273\n",
            "Epoch 46/150\n",
            "6/6 [==============================] - 0s 15ms/step - loss: 0.0570 - accuracy: 0.8404 - val_loss: 0.2047 - val_accuracy: 0.2273\n",
            "Epoch 47/150\n",
            "6/6 [==============================] - 0s 14ms/step - loss: 0.0524 - accuracy: 0.8626 - val_loss: 0.2048 - val_accuracy: 0.2273\n",
            "Epoch 48/150\n",
            "6/6 [==============================] - 0s 15ms/step - loss: 0.0542 - accuracy: 0.8626 - val_loss: 0.2051 - val_accuracy: 0.2273\n",
            "Epoch 49/150\n",
            "6/6 [==============================] - 0s 14ms/step - loss: 0.0518 - accuracy: 0.8566 - val_loss: 0.2044 - val_accuracy: 0.2273\n",
            "Epoch 50/150\n",
            "6/6 [==============================] - 0s 15ms/step - loss: 0.0570 - accuracy: 0.8283 - val_loss: 0.2037 - val_accuracy: 0.2273\n",
            "Epoch 51/150\n",
            "6/6 [==============================] - 0s 13ms/step - loss: 0.0552 - accuracy: 0.8444 - val_loss: 0.2031 - val_accuracy: 0.2273\n",
            "Epoch 52/150\n",
            "6/6 [==============================] - 0s 14ms/step - loss: 0.0551 - accuracy: 0.8303 - val_loss: 0.2017 - val_accuracy: 0.2273\n",
            "Epoch 53/150\n",
            "6/6 [==============================] - 0s 16ms/step - loss: 0.0557 - accuracy: 0.8404 - val_loss: 0.2004 - val_accuracy: 0.2273\n",
            "Epoch 54/150\n",
            "6/6 [==============================] - 0s 13ms/step - loss: 0.0522 - accuracy: 0.8626 - val_loss: 0.1979 - val_accuracy: 0.2386\n",
            "Epoch 55/150\n",
            "6/6 [==============================] - 0s 14ms/step - loss: 0.0541 - accuracy: 0.8525 - val_loss: 0.1954 - val_accuracy: 0.2386\n",
            "Epoch 56/150\n",
            "6/6 [==============================] - 0s 14ms/step - loss: 0.0537 - accuracy: 0.8424 - val_loss: 0.1929 - val_accuracy: 0.2614\n",
            "Epoch 57/150\n",
            "6/6 [==============================] - 0s 13ms/step - loss: 0.0528 - accuracy: 0.8485 - val_loss: 0.1903 - val_accuracy: 0.2614\n",
            "Epoch 58/150\n",
            "6/6 [==============================] - 0s 13ms/step - loss: 0.0520 - accuracy: 0.8646 - val_loss: 0.1886 - val_accuracy: 0.2614\n",
            "Epoch 59/150\n",
            "6/6 [==============================] - 0s 13ms/step - loss: 0.0522 - accuracy: 0.8505 - val_loss: 0.1859 - val_accuracy: 0.2841\n",
            "Epoch 60/150\n",
            "6/6 [==============================] - 0s 14ms/step - loss: 0.0517 - accuracy: 0.8626 - val_loss: 0.1827 - val_accuracy: 0.2841\n",
            "Epoch 61/150\n",
            "6/6 [==============================] - 0s 12ms/step - loss: 0.0510 - accuracy: 0.8485 - val_loss: 0.1799 - val_accuracy: 0.2841\n",
            "Epoch 62/150\n",
            "6/6 [==============================] - 0s 14ms/step - loss: 0.0489 - accuracy: 0.8667 - val_loss: 0.1770 - val_accuracy: 0.3182\n",
            "Epoch 63/150\n",
            "6/6 [==============================] - 0s 13ms/step - loss: 0.0492 - accuracy: 0.8566 - val_loss: 0.1750 - val_accuracy: 0.3182\n",
            "Epoch 64/150\n",
            "6/6 [==============================] - 0s 12ms/step - loss: 0.0477 - accuracy: 0.8768 - val_loss: 0.1727 - val_accuracy: 0.3409\n",
            "Epoch 65/150\n",
            "6/6 [==============================] - 0s 13ms/step - loss: 0.0453 - accuracy: 0.8727 - val_loss: 0.1700 - val_accuracy: 0.3409\n",
            "Epoch 66/150\n",
            "6/6 [==============================] - 0s 13ms/step - loss: 0.0475 - accuracy: 0.8626 - val_loss: 0.1666 - val_accuracy: 0.3750\n",
            "Epoch 67/150\n",
            "6/6 [==============================] - 0s 13ms/step - loss: 0.0478 - accuracy: 0.8747 - val_loss: 0.1631 - val_accuracy: 0.4091\n",
            "Epoch 68/150\n",
            "6/6 [==============================] - 0s 13ms/step - loss: 0.0439 - accuracy: 0.8768 - val_loss: 0.1598 - val_accuracy: 0.4432\n",
            "Epoch 69/150\n",
            "6/6 [==============================] - 0s 13ms/step - loss: 0.0476 - accuracy: 0.8586 - val_loss: 0.1561 - val_accuracy: 0.4659\n",
            "Epoch 70/150\n",
            "6/6 [==============================] - 0s 13ms/step - loss: 0.0465 - accuracy: 0.8747 - val_loss: 0.1518 - val_accuracy: 0.5000\n",
            "Epoch 71/150\n",
            "6/6 [==============================] - 0s 13ms/step - loss: 0.0468 - accuracy: 0.8808 - val_loss: 0.1472 - val_accuracy: 0.5000\n",
            "Epoch 72/150\n",
            "6/6 [==============================] - 0s 15ms/step - loss: 0.0456 - accuracy: 0.8808 - val_loss: 0.1437 - val_accuracy: 0.5455\n",
            "Epoch 73/150\n",
            "6/6 [==============================] - 0s 13ms/step - loss: 0.0432 - accuracy: 0.9051 - val_loss: 0.1403 - val_accuracy: 0.5682\n",
            "Epoch 74/150\n",
            "6/6 [==============================] - 0s 14ms/step - loss: 0.0477 - accuracy: 0.8707 - val_loss: 0.1362 - val_accuracy: 0.6023\n",
            "Epoch 75/150\n",
            "6/6 [==============================] - 0s 13ms/step - loss: 0.0449 - accuracy: 0.8808 - val_loss: 0.1319 - val_accuracy: 0.6250\n",
            "Epoch 76/150\n",
            "6/6 [==============================] - 0s 14ms/step - loss: 0.0443 - accuracy: 0.8788 - val_loss: 0.1284 - val_accuracy: 0.6364\n",
            "Epoch 77/150\n",
            "6/6 [==============================] - 0s 17ms/step - loss: 0.0446 - accuracy: 0.8828 - val_loss: 0.1245 - val_accuracy: 0.6477\n",
            "Epoch 78/150\n",
            "6/6 [==============================] - 0s 13ms/step - loss: 0.0433 - accuracy: 0.8808 - val_loss: 0.1202 - val_accuracy: 0.6705\n",
            "Epoch 79/150\n",
            "6/6 [==============================] - 0s 13ms/step - loss: 0.0464 - accuracy: 0.8687 - val_loss: 0.1169 - val_accuracy: 0.6818\n",
            "Epoch 80/150\n",
            "6/6 [==============================] - 0s 14ms/step - loss: 0.0409 - accuracy: 0.8909 - val_loss: 0.1143 - val_accuracy: 0.6818\n",
            "Epoch 81/150\n",
            "6/6 [==============================] - 0s 13ms/step - loss: 0.0443 - accuracy: 0.8808 - val_loss: 0.1117 - val_accuracy: 0.6818\n",
            "Epoch 82/150\n",
            "6/6 [==============================] - 0s 13ms/step - loss: 0.0450 - accuracy: 0.8747 - val_loss: 0.1083 - val_accuracy: 0.6818\n",
            "Epoch 83/150\n",
            "6/6 [==============================] - 0s 14ms/step - loss: 0.0405 - accuracy: 0.8949 - val_loss: 0.1051 - val_accuracy: 0.6932\n",
            "Epoch 84/150\n",
            "6/6 [==============================] - 0s 13ms/step - loss: 0.0435 - accuracy: 0.8626 - val_loss: 0.1030 - val_accuracy: 0.6818\n",
            "Epoch 85/150\n",
            "6/6 [==============================] - 0s 12ms/step - loss: 0.0408 - accuracy: 0.8990 - val_loss: 0.1010 - val_accuracy: 0.6818\n",
            "Epoch 86/150\n",
            "6/6 [==============================] - 0s 14ms/step - loss: 0.0399 - accuracy: 0.8970 - val_loss: 0.0990 - val_accuracy: 0.6818\n",
            "Epoch 87/150\n",
            "6/6 [==============================] - 0s 17ms/step - loss: 0.0454 - accuracy: 0.8707 - val_loss: 0.0968 - val_accuracy: 0.6818\n",
            "Epoch 88/150\n",
            "6/6 [==============================] - 0s 14ms/step - loss: 0.0415 - accuracy: 0.8788 - val_loss: 0.0938 - val_accuracy: 0.7045\n",
            "Epoch 89/150\n",
            "6/6 [==============================] - 0s 12ms/step - loss: 0.0415 - accuracy: 0.8990 - val_loss: 0.0909 - val_accuracy: 0.7159\n",
            "Epoch 90/150\n",
            "6/6 [==============================] - 0s 13ms/step - loss: 0.0389 - accuracy: 0.9010 - val_loss: 0.0891 - val_accuracy: 0.7386\n",
            "Epoch 91/150\n",
            "6/6 [==============================] - 0s 13ms/step - loss: 0.0391 - accuracy: 0.9111 - val_loss: 0.0872 - val_accuracy: 0.7273\n",
            "Epoch 92/150\n",
            "6/6 [==============================] - 0s 13ms/step - loss: 0.0401 - accuracy: 0.8949 - val_loss: 0.0869 - val_accuracy: 0.7273\n",
            "Epoch 93/150\n",
            "6/6 [==============================] - 0s 12ms/step - loss: 0.0392 - accuracy: 0.9030 - val_loss: 0.0862 - val_accuracy: 0.7273\n",
            "Epoch 94/150\n",
            "6/6 [==============================] - 0s 12ms/step - loss: 0.0403 - accuracy: 0.8929 - val_loss: 0.0839 - val_accuracy: 0.7386\n",
            "Epoch 95/150\n",
            "6/6 [==============================] - 0s 12ms/step - loss: 0.0402 - accuracy: 0.9030 - val_loss: 0.0819 - val_accuracy: 0.7500\n",
            "Epoch 96/150\n",
            "6/6 [==============================] - 0s 16ms/step - loss: 0.0395 - accuracy: 0.8970 - val_loss: 0.0802 - val_accuracy: 0.7727\n",
            "Epoch 97/150\n",
            "6/6 [==============================] - 0s 12ms/step - loss: 0.0396 - accuracy: 0.9010 - val_loss: 0.0776 - val_accuracy: 0.7841\n",
            "Epoch 98/150\n",
            "6/6 [==============================] - 0s 14ms/step - loss: 0.0375 - accuracy: 0.9192 - val_loss: 0.0760 - val_accuracy: 0.7841\n",
            "Epoch 99/150\n",
            "6/6 [==============================] - 0s 12ms/step - loss: 0.0385 - accuracy: 0.9051 - val_loss: 0.0757 - val_accuracy: 0.7727\n",
            "Epoch 100/150\n",
            "6/6 [==============================] - 0s 12ms/step - loss: 0.0382 - accuracy: 0.9091 - val_loss: 0.0756 - val_accuracy: 0.7727\n",
            "Epoch 101/150\n",
            "6/6 [==============================] - 0s 12ms/step - loss: 0.0412 - accuracy: 0.8828 - val_loss: 0.0750 - val_accuracy: 0.7727\n",
            "Epoch 102/150\n",
            "6/6 [==============================] - 0s 14ms/step - loss: 0.0373 - accuracy: 0.8970 - val_loss: 0.0736 - val_accuracy: 0.7727\n",
            "Epoch 103/150\n",
            "6/6 [==============================] - 0s 13ms/step - loss: 0.0388 - accuracy: 0.9071 - val_loss: 0.0717 - val_accuracy: 0.7955\n",
            "Epoch 104/150\n",
            "6/6 [==============================] - 0s 12ms/step - loss: 0.0381 - accuracy: 0.8990 - val_loss: 0.0707 - val_accuracy: 0.7955\n",
            "Epoch 105/150\n",
            "6/6 [==============================] - 0s 12ms/step - loss: 0.0378 - accuracy: 0.9051 - val_loss: 0.0700 - val_accuracy: 0.7841\n",
            "Epoch 106/150\n",
            "6/6 [==============================] - 0s 22ms/step - loss: 0.0342 - accuracy: 0.9131 - val_loss: 0.0699 - val_accuracy: 0.7841\n",
            "Epoch 107/150\n",
            "6/6 [==============================] - 0s 33ms/step - loss: 0.0349 - accuracy: 0.9152 - val_loss: 0.0700 - val_accuracy: 0.7841\n",
            "Epoch 108/150\n",
            "6/6 [==============================] - 0s 25ms/step - loss: 0.0354 - accuracy: 0.9131 - val_loss: 0.0690 - val_accuracy: 0.7955\n",
            "Epoch 109/150\n",
            "6/6 [==============================] - 0s 25ms/step - loss: 0.0351 - accuracy: 0.9111 - val_loss: 0.0684 - val_accuracy: 0.7955\n",
            "Epoch 110/150\n",
            "6/6 [==============================] - 0s 24ms/step - loss: 0.0349 - accuracy: 0.9192 - val_loss: 0.0677 - val_accuracy: 0.7955\n",
            "Epoch 111/150\n",
            "6/6 [==============================] - 0s 24ms/step - loss: 0.0389 - accuracy: 0.8909 - val_loss: 0.0678 - val_accuracy: 0.8068\n",
            "Epoch 112/150\n",
            "6/6 [==============================] - 0s 26ms/step - loss: 0.0343 - accuracy: 0.9172 - val_loss: 0.0675 - val_accuracy: 0.8068\n",
            "Epoch 113/150\n",
            "6/6 [==============================] - 0s 30ms/step - loss: 0.0335 - accuracy: 0.9152 - val_loss: 0.0668 - val_accuracy: 0.8068\n",
            "Epoch 114/150\n",
            "6/6 [==============================] - 0s 28ms/step - loss: 0.0319 - accuracy: 0.9131 - val_loss: 0.0667 - val_accuracy: 0.8295\n",
            "Epoch 115/150\n",
            "6/6 [==============================] - 0s 26ms/step - loss: 0.0336 - accuracy: 0.9212 - val_loss: 0.0673 - val_accuracy: 0.8182\n",
            "Epoch 116/150\n",
            "6/6 [==============================] - 0s 20ms/step - loss: 0.0352 - accuracy: 0.9091 - val_loss: 0.0674 - val_accuracy: 0.8182\n",
            "Epoch 117/150\n",
            "6/6 [==============================] - 0s 20ms/step - loss: 0.0361 - accuracy: 0.9051 - val_loss: 0.0671 - val_accuracy: 0.8182\n",
            "Epoch 118/150\n",
            "6/6 [==============================] - 0s 25ms/step - loss: 0.0334 - accuracy: 0.9192 - val_loss: 0.0660 - val_accuracy: 0.8295\n",
            "Epoch 119/150\n",
            "6/6 [==============================] - 0s 22ms/step - loss: 0.0322 - accuracy: 0.9192 - val_loss: 0.0648 - val_accuracy: 0.8295\n",
            "Epoch 120/150\n",
            "6/6 [==============================] - 0s 19ms/step - loss: 0.0332 - accuracy: 0.9253 - val_loss: 0.0640 - val_accuracy: 0.8409\n",
            "Epoch 121/150\n",
            "6/6 [==============================] - 0s 22ms/step - loss: 0.0341 - accuracy: 0.9172 - val_loss: 0.0637 - val_accuracy: 0.8409\n",
            "Epoch 122/150\n",
            "6/6 [==============================] - 0s 20ms/step - loss: 0.0327 - accuracy: 0.9212 - val_loss: 0.0637 - val_accuracy: 0.8409\n",
            "Epoch 123/150\n",
            "6/6 [==============================] - 0s 26ms/step - loss: 0.0326 - accuracy: 0.9253 - val_loss: 0.0633 - val_accuracy: 0.8409\n",
            "Epoch 124/150\n",
            "6/6 [==============================] - 0s 21ms/step - loss: 0.0333 - accuracy: 0.9192 - val_loss: 0.0643 - val_accuracy: 0.8295\n",
            "Epoch 125/150\n",
            "6/6 [==============================] - 0s 21ms/step - loss: 0.0303 - accuracy: 0.9414 - val_loss: 0.0652 - val_accuracy: 0.8295\n",
            "Epoch 126/150\n",
            "6/6 [==============================] - 0s 20ms/step - loss: 0.0318 - accuracy: 0.9232 - val_loss: 0.0649 - val_accuracy: 0.8182\n",
            "Epoch 127/150\n",
            "6/6 [==============================] - 0s 18ms/step - loss: 0.0314 - accuracy: 0.9212 - val_loss: 0.0654 - val_accuracy: 0.8068\n",
            "Epoch 128/150\n",
            "6/6 [==============================] - 0s 20ms/step - loss: 0.0304 - accuracy: 0.9232 - val_loss: 0.0656 - val_accuracy: 0.8182\n",
            "Epoch 129/150\n",
            "6/6 [==============================] - 0s 20ms/step - loss: 0.0312 - accuracy: 0.9232 - val_loss: 0.0652 - val_accuracy: 0.8295\n",
            "Epoch 130/150\n",
            "6/6 [==============================] - 0s 21ms/step - loss: 0.0338 - accuracy: 0.9192 - val_loss: 0.0636 - val_accuracy: 0.8295\n",
            "Epoch 131/150\n",
            "6/6 [==============================] - 0s 21ms/step - loss: 0.0313 - accuracy: 0.9172 - val_loss: 0.0633 - val_accuracy: 0.8409\n",
            "Epoch 132/150\n",
            "6/6 [==============================] - 0s 23ms/step - loss: 0.0321 - accuracy: 0.9212 - val_loss: 0.0635 - val_accuracy: 0.8295\n",
            "Epoch 133/150\n",
            "6/6 [==============================] - 0s 22ms/step - loss: 0.0309 - accuracy: 0.9253 - val_loss: 0.0639 - val_accuracy: 0.8295\n",
            "Epoch 134/150\n",
            "6/6 [==============================] - 0s 20ms/step - loss: 0.0329 - accuracy: 0.9172 - val_loss: 0.0640 - val_accuracy: 0.8295\n",
            "Epoch 135/150\n",
            "6/6 [==============================] - 0s 26ms/step - loss: 0.0308 - accuracy: 0.9232 - val_loss: 0.0639 - val_accuracy: 0.8295\n",
            "Epoch 136/150\n",
            "6/6 [==============================] - 0s 24ms/step - loss: 0.0283 - accuracy: 0.9253 - val_loss: 0.0644 - val_accuracy: 0.8295\n",
            "Epoch 137/150\n",
            "6/6 [==============================] - 0s 12ms/step - loss: 0.0286 - accuracy: 0.9414 - val_loss: 0.0643 - val_accuracy: 0.8295\n",
            "Epoch 138/150\n",
            "6/6 [==============================] - 0s 13ms/step - loss: 0.0297 - accuracy: 0.9333 - val_loss: 0.0647 - val_accuracy: 0.8182\n",
            "Epoch 139/150\n",
            "6/6 [==============================] - 0s 12ms/step - loss: 0.0339 - accuracy: 0.9051 - val_loss: 0.0652 - val_accuracy: 0.8182\n",
            "Epoch 140/150\n",
            "6/6 [==============================] - 0s 13ms/step - loss: 0.0292 - accuracy: 0.9394 - val_loss: 0.0646 - val_accuracy: 0.8182\n",
            "Epoch 141/150\n",
            "6/6 [==============================] - 0s 14ms/step - loss: 0.0292 - accuracy: 0.9354 - val_loss: 0.0639 - val_accuracy: 0.8295\n",
            "Epoch 142/150\n",
            "6/6 [==============================] - 0s 13ms/step - loss: 0.0269 - accuracy: 0.9434 - val_loss: 0.0639 - val_accuracy: 0.8295\n",
            "Epoch 143/150\n",
            "6/6 [==============================] - 0s 13ms/step - loss: 0.0273 - accuracy: 0.9374 - val_loss: 0.0636 - val_accuracy: 0.8295\n",
            "Epoch 144/150\n",
            "6/6 [==============================] - 0s 12ms/step - loss: 0.0283 - accuracy: 0.9354 - val_loss: 0.0636 - val_accuracy: 0.8523\n",
            "Epoch 145/150\n",
            "6/6 [==============================] - 0s 13ms/step - loss: 0.0264 - accuracy: 0.9434 - val_loss: 0.0640 - val_accuracy: 0.8409\n",
            "Epoch 146/150\n",
            "6/6 [==============================] - 0s 13ms/step - loss: 0.0278 - accuracy: 0.9374 - val_loss: 0.0642 - val_accuracy: 0.8295\n",
            "Epoch 147/150\n",
            "6/6 [==============================] - 0s 13ms/step - loss: 0.0303 - accuracy: 0.9394 - val_loss: 0.0643 - val_accuracy: 0.8182\n",
            "Epoch 148/150\n",
            "6/6 [==============================] - 0s 13ms/step - loss: 0.0259 - accuracy: 0.9434 - val_loss: 0.0640 - val_accuracy: 0.8068\n",
            "Epoch 149/150\n",
            "6/6 [==============================] - 0s 13ms/step - loss: 0.0267 - accuracy: 0.9313 - val_loss: 0.0641 - val_accuracy: 0.8068\n",
            "Epoch 150/150\n",
            "6/6 [==============================] - 0s 14ms/step - loss: 0.0312 - accuracy: 0.9192 - val_loss: 0.0645 - val_accuracy: 0.8068\n"
          ]
        }
      ]
    },
    {
      "cell_type": "code",
      "source": [
        "print('Predicting:') \n",
        "escoreCNN = modelCNN.evaluate(x_test, y_test, batch_size=50)\n",
        "predCNN = modelCNN.predict(x_test)\n",
        "predCNN = np.argmax(predCNN,axis=1) \n",
        "  \n",
        "print(\"CNN Evaluation score: {}\".format(escoreCNN)) \n",
        "print('='*50) \n",
        "plotHistory(historyCNN) "
      ],
      "metadata": {
        "colab": {
          "base_uri": "https://localhost:8080/",
          "height": 478
        },
        "id": "gGbjiTVfTDoh",
        "outputId": "0e3ee982-2192-4a7b-8cbe-9ce279706379"
      },
      "execution_count": null,
      "outputs": [
        {
          "output_type": "stream",
          "name": "stdout",
          "text": [
            "Predicting:\n",
            "3/3 [==============================] - 0s 4ms/step - loss: 0.0695 - accuracy: 0.7961\n",
            "CNN Evaluation score: [0.06953985244035721, 0.7961165308952332]\n",
            "==================================================\n",
            "Max. Validation Accuracy 0.8522727489471436\n",
            "====================\n"
          ]
        },
        {
          "output_type": "display_data",
          "data": {
            "text/plain": [
              "<Figure size 864x432 with 1 Axes>"
            ],
            "image/png": "[encoded data removed]"
          },
          "metadata": {
            "needs_background": "light"
          }
        }
      ]
    },
    {
      "cell_type": "code",
      "source": [
        "def predict(model,test,expected):\n",
        "  pred = model.predict(test.T)\n",
        "  result = np.argmax(pred,axis=1).squeeze()\n",
        "  expected = np.argmax(expected)\n",
        "  print(\"prediction is {0} and expected is {1}.\".format(result, expected))\n",
        "  "
      ],
      "metadata": {
        "id": "iAgoxUp5lQry"
      },
      "execution_count": null,
      "outputs": []
    },
    {
      "cell_type": "code",
      "source": [
        "predict(modelCNN,x_test[1],y_test[1])\n",
        "predict(modelCNN,x_test[2],y_test[2])\n",
        "predict(modelCNN,x_test[3],y_test[3])\n",
        "predict(modelCNN,x_test[4],y_test[4])"
      ],
      "metadata": {
        "colab": {
          "base_uri": "https://localhost:8080/"
        },
        "id": "yrA0TRCFsBSY",
        "outputId": "f3cf0786-2c32-4a5f-89e1-364da339b7e2"
      },
      "execution_count": null,
      "outputs": [
        {
          "output_type": "stream",
          "name": "stdout",
          "text": [
            "prediction is 1 and expected is 1.\n",
            "prediction is 2 and expected is 2.\n",
            "prediction is 2 and expected is 2.\n",
            "prediction is 1 and expected is 1.\n"
          ]
        }
      ]
    }
  ]
}